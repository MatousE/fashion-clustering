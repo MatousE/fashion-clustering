{
  "nbformat": 4,
  "nbformat_minor": 0,
  "metadata": {
    "colab": {
      "provenance": [],
      "authorship_tag": "ABX9TyPYgrQqHDux6yNVLZe/RD6w",
      "include_colab_link": true
    },
    "kernelspec": {
      "name": "python3",
      "display_name": "Python 3"
    },
    "language_info": {
      "name": "python"
    },
    "accelerator": "GPU",
    "gpuClass": "standard"
  },
  "cells": [
    {
      "cell_type": "markdown",
      "metadata": {
        "id": "view-in-github",
        "colab_type": "text"
      },
      "source": [
        "<a href=\"https://colab.research.google.com/github/MatousE/fashion-clustering/blob/main/autoencoder_fashion_MNIST_clustering.ipynb\" target=\"_parent\"><img src=\"https://colab.research.google.com/assets/colab-badge.svg\" alt=\"Open In Colab\"/></a>"
      ]
    },
    {
      "cell_type": "markdown",
      "source": [
        "## Install Dependencies"
      ],
      "metadata": {
        "id": "_zdyW3tqbwiq"
      }
    },
    {
      "cell_type": "code",
      "execution_count": 1,
      "metadata": {
        "colab": {
          "base_uri": "https://localhost:8080/"
        },
        "id": "UKDu6ubAMkpI",
        "outputId": "cbf6f5de-0ac9-479d-8bcd-5e6dc7d62246"
      },
      "outputs": [
        {
          "output_type": "stream",
          "name": "stdout",
          "text": [
            "Looking in indexes: https://pypi.org/simple, https://us-python.pkg.dev/colab-wheels/public/simple/\n",
            "Requirement already satisfied: pyclesperanto in /usr/local/lib/python3.8/dist-packages (0.6.5)\n",
            "Requirement already satisfied: toolz in /usr/local/lib/python3.8/dist-packages (from pyclesperanto) (0.12.0)\n",
            "Requirement already satisfied: matplotlib in /usr/local/lib/python3.8/dist-packages (from pyclesperanto) (3.2.2)\n",
            "Requirement already satisfied: numpy in /usr/local/lib/python3.8/dist-packages (from pyclesperanto) (1.21.6)\n",
            "Requirement already satisfied: kiwisolver>=1.0.1 in /usr/local/lib/python3.8/dist-packages (from matplotlib->pyclesperanto) (1.4.4)\n",
            "Requirement already satisfied: python-dateutil>=2.1 in /usr/local/lib/python3.8/dist-packages (from matplotlib->pyclesperanto) (2.8.2)\n",
            "Requirement already satisfied: pyparsing!=2.0.4,!=2.1.2,!=2.1.6,>=2.0.1 in /usr/local/lib/python3.8/dist-packages (from matplotlib->pyclesperanto) (3.0.9)\n",
            "Requirement already satisfied: cycler>=0.10 in /usr/local/lib/python3.8/dist-packages (from matplotlib->pyclesperanto) (0.11.0)\n",
            "Requirement already satisfied: six>=1.5 in /usr/local/lib/python3.8/dist-packages (from python-dateutil>=2.1->matplotlib->pyclesperanto) (1.15.0)\n",
            "pyclesperanto version: 0.6.5\n"
          ]
        }
      ],
      "source": [
        "!pip install pyclesperanto\n",
        "!pip install umap-learn\n",
        "import umap\n",
        "\n",
        "import pyclesperanto as cle\n",
        "import matplotlib.pyplot as plt\n",
        "import numpy as np\n",
        "import pandas as pd\n",
        "import tensorflow as tf\n",
        "\n",
        "from sklearn.metrics import accuracy_score, precision_score, recall_score\n",
        "from sklearn.model_selection import train_test_split\n",
        "from tensorflow.keras import layers, losses\n",
        "from tensorflow.keras.datasets import fashion_mnist\n",
        "from tensorflow.keras.models import Model"
      ]
    },
    {
      "cell_type": "markdown",
      "source": [
        "## Downloading and formatting train and test data"
      ],
      "metadata": {
        "id": "yKH8e9JHb2x1"
      }
    },
    {
      "cell_type": "code",
      "source": [
        "(x_train, y_train), (x_test, y_test) = fashion_mnist.load_data()\n",
        "\n",
        "x_train = x_train.astype('float32') / 255.\n",
        "x_test = x_test.astype('float32') / 255.\n",
        "\n",
        "print (x_train.shape)\n",
        "print (x_test.shape)"
      ],
      "metadata": {
        "colab": {
          "base_uri": "https://localhost:8080/"
        },
        "id": "I-LZtsD5MufK",
        "outputId": "32c6f8cc-631a-42ab-c7bf-89ef87c8393f"
      },
      "execution_count": 17,
      "outputs": [
        {
          "output_type": "stream",
          "name": "stdout",
          "text": [
            "(60000, 28, 28)\n",
            "(10000, 28, 28)\n"
          ]
        }
      ]
    },
    {
      "cell_type": "markdown",
      "source": [
        "## Defining autoencoder model and training"
      ],
      "metadata": {
        "id": "iUWEjqk6b_ow"
      }
    },
    {
      "cell_type": "code",
      "source": [
        "input_shape = (28, 28, 1)\n",
        "input_layer = layers.Input(shape=(input_shape))\n",
        "encoder = layers.Conv2D(16, (3,3), activation='relu', padding='same', strides=2)(input_layer)\n",
        "encoder = layers.Conv2D(8, (3,3,), activation='relu', padding='same', strides=2, name='bottleneck_layer')(encoder)\n",
        "\n",
        "decoder = layers.Conv2DTranspose(8, kernel_size=3, strides=2, activation='relu', padding='same')(encoder)\n",
        "decoder = layers.Conv2DTranspose(16, kernel_size=3, strides=2, activation='relu', padding='same')(decoder)\n",
        "decoder = layers.Conv2D(1, kernel_size=(3, 3), activation='sigmoid', padding='same')(decoder)\n",
        "\n",
        "model_full = Model(input_layer, decoder)\n",
        "model_full.compile(optimizer='adam', loss='mse')\n",
        "model_full.build(input_shape)\n",
        "\n",
        "model_full.fit(x_train, x_train,\n",
        "               epochs=15,\n",
        "               shuffle=True,\n",
        "               validation_data=(x_test, x_test))\n",
        "\n"
      ],
      "metadata": {
        "colab": {
          "base_uri": "https://localhost:8080/"
        },
        "id": "gV1_7Gh9VA3D",
        "outputId": "0442406e-3830-41f0-91cb-545318c66e97"
      },
      "execution_count": 3,
      "outputs": [
        {
          "output_type": "stream",
          "name": "stdout",
          "text": [
            "Epoch 1/15\n",
            "1875/1875 [==============================] - 10s 4ms/step - loss: 0.0136 - val_loss: 0.0059\n",
            "Epoch 2/15\n",
            "1875/1875 [==============================] - 6s 3ms/step - loss: 0.0050 - val_loss: 0.0043\n",
            "Epoch 3/15\n",
            "1875/1875 [==============================] - 7s 4ms/step - loss: 0.0038 - val_loss: 0.0033\n",
            "Epoch 4/15\n",
            "1875/1875 [==============================] - 7s 4ms/step - loss: 0.0030 - val_loss: 0.0027\n",
            "Epoch 5/15\n",
            "1875/1875 [==============================] - 6s 3ms/step - loss: 0.0026 - val_loss: 0.0024\n",
            "Epoch 6/15\n",
            "1875/1875 [==============================] - 7s 4ms/step - loss: 0.0023 - val_loss: 0.0023\n",
            "Epoch 7/15\n",
            "1875/1875 [==============================] - 6s 3ms/step - loss: 0.0022 - val_loss: 0.0021\n",
            "Epoch 8/15\n",
            "1875/1875 [==============================] - 6s 3ms/step - loss: 0.0021 - val_loss: 0.0021\n",
            "Epoch 9/15\n",
            "1875/1875 [==============================] - 7s 4ms/step - loss: 0.0020 - val_loss: 0.0020\n",
            "Epoch 10/15\n",
            "1875/1875 [==============================] - 8s 4ms/step - loss: 0.0020 - val_loss: 0.0020\n",
            "Epoch 11/15\n",
            "1875/1875 [==============================] - 6s 3ms/step - loss: 0.0020 - val_loss: 0.0020\n",
            "Epoch 12/15\n",
            "1875/1875 [==============================] - 7s 4ms/step - loss: 0.0020 - val_loss: 0.0019\n",
            "Epoch 13/15\n",
            "1875/1875 [==============================] - 7s 4ms/step - loss: 0.0019 - val_loss: 0.0021\n",
            "Epoch 14/15\n",
            "1875/1875 [==============================] - 7s 4ms/step - loss: 0.0019 - val_loss: 0.0020\n",
            "Epoch 15/15\n",
            "1875/1875 [==============================] - 7s 4ms/step - loss: 0.0019 - val_loss: 0.0019\n"
          ]
        },
        {
          "output_type": "execute_result",
          "data": {
            "text/plain": [
              "<keras.callbacks.History at 0x7f13a0b34100>"
            ]
          },
          "metadata": {},
          "execution_count": 3
        }
      ]
    },
    {
      "cell_type": "markdown",
      "source": [
        "## Defining bottleneck model and obtaining predictions"
      ],
      "metadata": {
        "id": "5ggDVY6bcHuR"
      }
    },
    {
      "cell_type": "code",
      "source": [
        "bottleneck_output = model_full.get_layer('bottleneck_layer').output\n",
        "model_bottleneck = Model(inputs = model_full.input, outputs = bottleneck_output)\n",
        "\n",
        "bottleneck_predictions = model_bottleneck.predict(x_test)"
      ],
      "metadata": {
        "colab": {
          "base_uri": "https://localhost:8080/"
        },
        "id": "HwRdidQBUL0R",
        "outputId": "384aa36b-0dcf-4440-9a43-8ad25441e36f"
      },
      "execution_count": 13,
      "outputs": [
        {
          "output_type": "stream",
          "name": "stdout",
          "text": [
            "313/313 [==============================] - 0s 1ms/step\n"
          ]
        }
      ]
    },
    {
      "cell_type": "markdown",
      "source": [
        "## UMAP clustering on bottleneck output"
      ],
      "metadata": {
        "id": "eVtOY1iacPpb"
      }
    },
    {
      "cell_type": "code",
      "source": [
        "predictions_reshaped = np.asarray([x.flatten() for x in bottleneck_predictions])\n",
        "\n",
        "print(predictions_reshaped.shape)\n",
        "\n",
        "reducer = umap.UMAP()\n",
        "embedding = reducer.fit_transform(predictions_reshaped)\n",
        "\n",
        "print(embedding.shape)"
      ],
      "metadata": {
        "colab": {
          "base_uri": "https://localhost:8080/"
        },
        "id": "J-JgY2o2YIvB",
        "outputId": "f604da95-0811-4992-fa52-b9e35f041f4d"
      },
      "execution_count": 16,
      "outputs": [
        {
          "output_type": "stream",
          "name": "stdout",
          "text": [
            "(10000, 392)\n",
            "(10000, 2)\n"
          ]
        }
      ]
    },
    {
      "cell_type": "markdown",
      "source": [
        "## Visualise Clusters"
      ],
      "metadata": {
        "id": "aCDKC7mHcsR2"
      }
    },
    {
      "cell_type": "code",
      "source": [
        "plt.scatter(embedding[:, 0], embedding[:, 1], c=y_test.astype(int), cmap='Spectral', s=5)\n",
        "plt.colorbar()"
      ],
      "metadata": {
        "colab": {
          "base_uri": "https://localhost:8080/",
          "height": 287
        },
        "id": "RSmdBWDUVVPP",
        "outputId": "15371984-701b-4ba3-e156-2b3d7c4c2ee8"
      },
      "execution_count": 23,
      "outputs": [
        {
          "output_type": "stream",
          "name": "stdout",
          "text": [
            "9\n"
          ]
        },
        {
          "output_type": "display_data",
          "data": {
            "text/plain": [
              "<Figure size 432x288 with 2 Axes>"
            ],
            "image/png": "[encoded data removed]"
          },
          "metadata": {
            "needs_background": "light"
          }
        }
      ]
    }
  ]
}